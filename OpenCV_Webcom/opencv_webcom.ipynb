{
 "cells": [
  {
   "cell_type": "code",
   "execution_count": 1,
   "metadata": {},
   "outputs": [],
   "source": [
    "# 匯入函式庫\n",
    "import cv2\n",
    "import numpy as np"
   ]
  },
  {
   "cell_type": "code",
   "execution_count": 2,
   "metadata": {},
   "outputs": [],
   "source": [
    "# 設定從哪顆鏡頭讀取影像\n",
    "webcam = cv2.VideoCapture(0)\n",
    "\n",
    "while(True):\n",
    "    # 讀取影像\n",
    "    return_value, webimg = webcam.read()\n",
    "    \n",
    "    ###########################################################################\n",
    "    \n",
    "    # 使影像變色效果\n",
    "    # webimg = cv2.cvtColor(webimg,cv2.COLOR_BGR2RGB)\n",
    "    \n",
    "    # 影像模糊化\n",
    "    # webimg  = cv2.blur(webimg , (15, 15))\n",
    "    \n",
    "    # 影像銳利化\n",
    "    # kernel = np.array([[0, -1, 0], [-1, 5, -1], [0, -1, 0]], np.float32)\n",
    "    # webimg = cv2.filter2D(webimg, -1, kernel=kernel)\n",
    "    \n",
    "    ###########################################################################\n",
    "    \n",
    "    # 顯示影像\n",
    "    cv2.imshow('camera', webimg)\n",
    "    \n",
    "    # 若按下 q 鍵則離開迴圈\n",
    "    if cv2.waitKey(1) & 0xFF == ord('q'):\n",
    "        break\n",
    "\n",
    "# 釋放攝影機\n",
    "webcam.release()\n",
    "\n",
    "# 關閉所有 OpenCV 視窗\n",
    "cv2.destroyAllWindows()"
   ]
  },
  {
   "cell_type": "code",
   "execution_count": 3,
   "metadata": {},
   "outputs": [
    {
     "data": {
      "text/plain": [
       "True"
      ]
     },
     "execution_count": 3,
     "metadata": {},
     "output_type": "execute_result"
    }
   ],
   "source": [
    "# 儲存名為 web_img_rgb.jpg 的圖片\n",
    "cv2.imwrite(\"web_img_rgb.jpg\", webimg)"
   ]
  },
  {
   "cell_type": "code",
   "execution_count": 4,
   "metadata": {},
   "outputs": [
    {
     "data": {
      "text/plain": [
       "numpy.ndarray"
      ]
     },
     "execution_count": 4,
     "metadata": {},
     "output_type": "execute_result"
    }
   ],
   "source": [
    "# 讀取圖片\n",
    "webimg_rgb = cv2.imread('web_img_rgb.jpg')\n",
    "\n",
    "# 查看資料型態\n",
    "type(webimg_rgb)"
   ]
  },
  {
   "cell_type": "code",
   "execution_count": 5,
   "metadata": {},
   "outputs": [
    {
     "data": {
      "text/plain": [
       "(480, 640, 3)"
      ]
     },
     "execution_count": 5,
     "metadata": {},
     "output_type": "execute_result"
    }
   ],
   "source": [
    "# 檢查 NumPy 陣列的大小\n",
    "webimg_rgb.shape"
   ]
  },
  {
   "cell_type": "code",
   "execution_count": 6,
   "metadata": {},
   "outputs": [],
   "source": [
    "# 以灰階的方式讀取圖檔\n",
    "webimg_gray = cv2.imread('web_img_rgb.jpg', cv2.IMREAD_GRAYSCALE)"
   ]
  },
  {
   "cell_type": "code",
   "execution_count": 7,
   "metadata": {},
   "outputs": [],
   "source": [
    "# 顯示圖片\n",
    "cv2.imshow('Image rgb', webimg_rgb)\n",
    "cv2.imshow('Image gray', webimg_gray)\n",
    "\n",
    "# 按下任意鍵則關閉所有視窗\n",
    "cv2.waitKey(0)\n",
    "cv2.destroyAllWindows()"
   ]
  },
  {
   "cell_type": "code",
   "execution_count": 8,
   "metadata": {},
   "outputs": [
    {
     "data": {
      "text/plain": [
       "True"
      ]
     },
     "execution_count": 8,
     "metadata": {},
     "output_type": "execute_result"
    }
   ],
   "source": [
    "# 儲存名為 web_img_gray.jpg 的圖片\n",
    "cv2.imwrite(\"web_img_gray.jpg\", webimg_gray)"
   ]
  },
  {
   "cell_type": "code",
   "execution_count": 9,
   "metadata": {},
   "outputs": [],
   "source": [
    "img = cv2.imread(\"web_img_gray.jpg\")\n",
    "\n",
    "# 均值濾波、高斯慮波\n",
    "meanResult = cv2.blur(img, (5, 5))\n",
    "gaussianResult = cv2.GaussianBlur(img,(5, 5),3)\n",
    "\n",
    "cv2.imshow(\"Origin image\", img)\n",
    "\n",
    "# 顯示 均值濾波、高斯慮波 結果\n",
    "cv2.imshow(\"Mean filter\", meanResult)\n",
    "cv2.imshow(\"Gaussian filter\", gaussianResult)\n",
    "\n",
    "cv2.waitKey(0)\n",
    "cv2.destroyAllWindows()"
   ]
  },
  {
   "cell_type": "code",
   "execution_count": 10,
   "metadata": {},
   "outputs": [
    {
     "data": {
      "text/plain": [
       "True"
      ]
     },
     "execution_count": 10,
     "metadata": {},
     "output_type": "execute_result"
    }
   ],
   "source": [
    "cv2.imwrite(\"web_img_Mean filter.jpg\", meanResult)\n",
    "cv2.imwrite(\"web_img_Gaussian filter.jpg\", gaussianResult)"
   ]
  },
  {
   "cell_type": "code",
   "execution_count": null,
   "metadata": {},
   "outputs": [],
   "source": []
  }
 ],
 "metadata": {
  "kernelspec": {
   "display_name": "Python 3",
   "language": "python",
   "name": "python3"
  },
  "language_info": {
   "codemirror_mode": {
    "name": "ipython",
    "version": 3
   },
   "file_extension": ".py",
   "mimetype": "text/x-python",
   "name": "python",
   "nbconvert_exporter": "python",
   "pygments_lexer": "ipython3",
   "version": "3.7.7"
  }
 },
 "nbformat": 4,
 "nbformat_minor": 4
}
